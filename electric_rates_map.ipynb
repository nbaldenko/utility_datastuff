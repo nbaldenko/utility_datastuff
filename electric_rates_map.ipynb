{
 "cells": [
  {
   "cell_type": "code",
   "execution_count": 13,
   "metadata": {
    "collapsed": false
   },
   "outputs": [
    {
     "data": {
      "text/html": [
       "<iframe id=\"igraph\" scrolling=\"no\" style=\"border:none;\" seamless=\"seamless\" src=\"https://plot.ly/~NicBaldenko/2.embed\" height=\"525px\" width=\"100%\"></iframe>"
      ],
      "text/plain": [
       "<plotly.tools.PlotlyDisplay object>"
      ]
     },
     "execution_count": 13,
     "metadata": {},
     "output_type": "execute_result"
    }
   ],
   "source": [
    "import plotly.plotly as py\n",
    "py.sign_in('NicBaldenko', 'Hf6rsiK5ZlqVg4xwdQVn')\n",
    "import pandas as pd\n",
    "\n",
    "scl = [[0.0, 'rgb(242,240,247)'],[0.2, 'rgb(218,218,235)'],[0.4, 'rgb(188,189,220)'],\\\n",
    "            [0.6, 'rgb(158,154,200)'],[0.8, 'rgb(117,107,177)'],[1.0, 'rgb(84,39,143)']]\n",
    "\n",
    "df = pd.read_csv('http://en.openei.org/doe-opendata/dataset/011e736e-0aa0-4c73-9dd6-e943e3443d9c/resource/6cc430da-de84-4f60-a3e3-809d73a0e8e1/download/iouzipcodes2015.csv')\n",
    " \n",
    "df_mean = df.groupby(by=['state'])['res_rate'].mean().reset_index()\n",
    "df_mean['comm_rate'] = df.groupby(by=['state'])['comm_rate'].mean()\n",
    "df_mean['ind_rate'] = df.groupby(by=['state'])['ind_rate'].mean()\n",
    "\n",
    "\n",
    "'''\n",
    "df_mean['text'] = df_mean['state'] + '<br>' +\\\n",
    "    'Average Commercial Rate '+str(round(df_mean['comm_rate'],2)*100)+ ' cents/kWh'+ '<br>' +\\\n",
    "    'Average Industrial Rate '+str(round(df_mean['ind_rate'],2)*100)+ ' cents/kWh'\n",
    "'''\n",
    "\n",
    "data = [ dict(\n",
    "        type='choropleth',\n",
    "        colorscale = scl,\n",
    "        autocolorscale = False,\n",
    "        locations = df_mean['state'],\n",
    "        z = df_mean['res_rate'].astype(float)*100,\n",
    "        locationmode = 'USA-states',\n",
    "        #text = df_mean['text'],\n",
    "        marker = dict(\n",
    "            line = dict (\n",
    "                color = 'rgb(255,255,255)',\n",
    "                width = 2\n",
    "            ) ),\n",
    "        colorbar = dict(\n",
    "            title = \"cents / kWh\")\n",
    "        ) ]\n",
    "\n",
    "layout = dict(\n",
    "        title = 'Average Residential Electric Rates for Investor Owned Utilities by State<br>(Hover for breakdown)',\n",
    "        geo = dict(\n",
    "            scope='usa',\n",
    "            projection=dict( type='albers usa' ),\n",
    "            showlakes = True,\n",
    "            lakecolor = 'rgb(255, 255, 255)'),\n",
    "             )\n",
    "\n",
    "fig = dict( data=data, layout=layout )\n",
    "py.iplot( fig, filename='IOU_electric_rates' )\n"
   ]
  },
  {
   "cell_type": "code",
   "execution_count": null,
   "metadata": {
    "collapsed": true
   },
   "outputs": [],
   "source": []
  }
 ],
 "metadata": {
  "kernelspec": {
   "display_name": "Python 2",
   "language": "python",
   "name": "python2"
  },
  "language_info": {
   "codemirror_mode": {
    "name": "ipython",
    "version": 2
   },
   "file_extension": ".py",
   "mimetype": "text/x-python",
   "name": "python",
   "nbconvert_exporter": "python",
   "pygments_lexer": "ipython2",
   "version": "2.7.12"
  }
 },
 "nbformat": 4,
 "nbformat_minor": 0
}
