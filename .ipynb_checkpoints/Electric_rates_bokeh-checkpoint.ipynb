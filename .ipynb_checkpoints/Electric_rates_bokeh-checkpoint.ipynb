{
 "cells": [
  {
   "cell_type": "markdown",
   "metadata": {},
   "source": [
    "# 2015 IOU Electric Rates map using Bokeh\n",
    "\n",
    "This notebook creates a choropleth map of investor owned electric utility rates using the bokeh package in python\n",
    "\n",
    "first we import everything"
   ]
  },
  {
   "cell_type": "code",
   "execution_count": 1,
   "metadata": {
    "collapsed": true
   },
   "outputs": [],
   "source": [
    "from bokeh.models import HoverTool\n",
    "from bokeh.models import ColumnDataSource  \n",
    "from bokeh.sampledata import us_states\n",
    "from bokeh.plotting import figure, show, output_file\n",
    "import pandas as pd\n",
    "import numpy as np\n",
    "from collections import OrderedDict"
   ]
  },
  {
   "cell_type": "markdown",
   "metadata": {},
   "source": [
    "# Read in Data\n",
    "read rate data into dataframe from link \n",
    "create a dict of us_state data from bokeh sample (I hate this data)\n",
    "attempt to sort the dict into an ordered dict so that the hovertool will match the state it is hovering over (doesn't work yet)"
   ]
  },
  {
   "cell_type": "code",
   "execution_count": 2,
   "metadata": {
    "collapsed": false
   },
   "outputs": [],
   "source": [
    "#df = pd.read_csv('http://en.openei.org/doe-opendata/dataset/011e736e-0aa0-4c73-9dd6-e943e3443d9c/resource/6cc430da-de84-4f60-a3e3-809d73a0e8e1/download/iouzipcodes2015.csv')\n",
    "#for local development\n",
    "df = pd.read_csv('iouzipcodes2015.csv')\n",
    "\n",
    "df_mean = df.groupby(by=['state'])['res_rate'].mean().reset_index()\n",
    "df_mean['comm_rate'] = df.groupby(by=['state'])['comm_rate'].mean().values\n",
    "df_mean['ind_rate'] = df.groupby(by=['state'])['ind_rate'].mean().values\n",
    "#print float(max(df_mean['res_rate']))\n",
    "\n",
    "us_states = us_states.data.copy()\n",
    "us_states_order = OrderedDict()\n",
    "\n",
    "for k in sorted(us_states):\n",
    "    us_states_order[k] = us_states.get(k)\n",
    "\n",
    "#print us_states_order"
   ]
  },
  {
   "cell_type": "markdown",
   "metadata": {},
   "source": [
    "drop HI and AK from both the electric data and the us_states data because they are really far from the continental US and will skew the map \n",
    "\n",
    "Also need to add a Nebraska (NE) entry for the electric data because there is no data for NE. If a NE entry isn't added, then the hovertool data for every state after Nebraska (alphabetically) will be off by one. \n",
    "\n",
    "create dicts for the x and y coordinates of the shapes of the states"
   ]
  },
  {
   "cell_type": "code",
   "execution_count": 3,
   "metadata": {
    "collapsed": false
   },
   "outputs": [],
   "source": [
    "df_mean = df_mean[df_mean.state != 'HI']\n",
    "df_mean = df_mean[df_mean.state != 'AK']\n",
    "del us_states_order[\"HI\"]\n",
    "del us_states_order[\"AK\"]\n",
    "\n",
    "#ADDED NE ENTRY FOR LOCAL FILE\n",
    "#NEED TO ADD CODE TO ADD A NE ENTRY FROM RAW DATA\n",
    "#df_mean.add('helpmeplease')\n",
    "#(zip='00000',eiaid='000',utility_name='nodata',state='NE',service_type='nodata',ownership='nodata',comm_rate=0.0,ind_rate=0.0,res_rate=0.0)\n",
    "\n",
    "state_xs = [us_states_order[code][\"lons\"] for code in us_states_order]\n",
    "state_ys = [us_states_order[code][\"lats\"] for code in us_states_order]"
   ]
  },
  {
   "cell_type": "markdown",
   "metadata": {},
   "source": [
    "first we define a color scale to be used in the map\n",
    "\n",
    "Then we go through all the states in the us_states_order dict and use their residential rate\n",
    "from the df_mean dataframe to determine a color index. index is determined by dividing each rate by the maximum rate, multiplying by 5 (number of colors in the scale) and rounding to the nearest integer. states with no data are made white."
   ]
  },
  {
   "cell_type": "code",
   "execution_count": 4,
   "metadata": {
    "collapsed": false
   },
   "outputs": [],
   "source": [
    "colors = [\"#F1EEF6\", \"#D4B9DA\", \"#C994C7\", \"#DF65B0\", \"#DD1C77\", \"#980043\"]\n",
    "\n",
    "state_colors = []\n",
    "for state_id in us_states_order:\n",
    "    try:\n",
    "        #print state_id\n",
    "        total = df_mean.loc[df_mean['state']==state_id]['res_rate'].values[0]\n",
    "        #print total\n",
    "        idx = int(round((total/float(max(df_mean['res_rate'])))*5,0))\n",
    "        #print idx\n",
    "        state_colors.append(colors[idx])\n",
    "    except IndexError:\n",
    "        state_colors.append(\"white\")\n"
   ]
  },
  {
   "cell_type": "markdown",
   "metadata": {},
   "source": [
    "Next we go through and define the output html file\n",
    "This package is super cool because it creates an interactive html file. that way, we don't need to have server access to the location that we want to display the map... we just link to a single html file!!"
   ]
  },
  {
   "cell_type": "code",
   "execution_count": 5,
   "metadata": {
    "collapsed": false
   },
   "outputs": [],
   "source": [
    "output_file(\"choropleth.html\", title=\"choropleth.py example\")"
   ]
  },
  {
   "cell_type": "markdown",
   "metadata": {},
   "source": [
    "This part took a while to figure out. In order to get the hovertool to work, we need to define a columndatasource with all the data that will be used. This is one of the main reasons we needed to make the NE entry in the electric data, because these columns in the columndatasource need to match up one for one otherwise they will be miss matching. Since the individual columns in the columndatasource aren't forced to be the same size you can get some really wacky hovertool output without realizing why."
   ]
  },
  {
   "cell_type": "code",
   "execution_count": 6,
   "metadata": {
    "collapsed": true
   },
   "outputs": [],
   "source": [
    "#print df_mean\n",
    "source = ColumnDataSource(data=dict(\n",
    "        x=state_xs,\n",
    "        y=state_ys,\n",
    "        states=us_states_order.keys(),\n",
    "        rates=(df_mean['res_rate']*100),\n",
    "        crates=(df_mean['comm_rate']*100),\n",
    "        irates=(df_mean['ind_rate']*100),\n",
    "    ))\n"
   ]
  },
  {
   "cell_type": "markdown",
   "metadata": {},
   "source": [
    "now we create the figure and define the hovertool display values"
   ]
  },
  {
   "cell_type": "code",
   "execution_count": 7,
   "metadata": {
    "collapsed": true
   },
   "outputs": [],
   "source": [
    "p = figure(title=\"2015 IOU Residential Electric Rates (Continental US)\", toolbar_location=\"left\",\n",
    "    plot_width=1100, plot_height=700, tools='hover')\n",
    "p.patches(state_xs, state_ys,source=source, fill_color=state_colors, fill_alpha=0.7,\n",
    "    line_color=\"white\", line_width=0.5)\n",
    "p.patches(state_xs, state_ys,source=source, fill_alpha=0.0,\n",
    "    line_color=\"#884444\", line_width=2)\n",
    "\n",
    "p.select_one(HoverTool).tooltips = [\n",
    "    ('State', '@states'),\n",
    "    ('Residential Rate', '@rates cents / kWh'),\n",
    "    ('Commercial Rate', '@crates cents / kWh'),\n",
    "    ('Industrial Rate', '@irates cents / kWh'),\n",
    "]"
   ]
  },
  {
   "cell_type": "markdown",
   "metadata": {},
   "source": [
    "turn off gridlines and axes and show the graph!!"
   ]
  },
  {
   "cell_type": "code",
   "execution_count": 8,
   "metadata": {
    "collapsed": false
   },
   "outputs": [],
   "source": [
    "p.legend.location = \"bottom_left\"\n",
    "p.xgrid.grid_line_color = None\n",
    "p.ygrid.grid_line_color = None\n",
    "p.axis.visible = False\n",
    "#print df_mean['state'].count()\n",
    "#print us_states_order.keys()\n",
    "show(p)"
   ]
  }
 ],
 "metadata": {
  "kernelspec": {
   "display_name": "Python 2",
   "language": "python",
   "name": "python2"
  },
  "language_info": {
   "codemirror_mode": {
    "name": "ipython",
    "version": 2
   },
   "file_extension": ".py",
   "mimetype": "text/x-python",
   "name": "python",
   "nbconvert_exporter": "python",
   "pygments_lexer": "ipython2",
   "version": "2.7.12"
  }
 },
 "nbformat": 4,
 "nbformat_minor": 0
}
