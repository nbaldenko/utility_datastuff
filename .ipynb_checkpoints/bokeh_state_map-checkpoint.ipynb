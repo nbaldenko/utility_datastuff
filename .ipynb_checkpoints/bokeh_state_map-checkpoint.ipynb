{
 "cells": [
  {
   "cell_type": "code",
   "execution_count": null,
   "metadata": {
    "collapsed": false
   },
   "outputs": [],
   "source": [
    "from bokeh.models import HoverTool\n",
    "from bokeh.sampledata import us_states\n",
    "from bokeh.plotting import figure, show, output_file\n",
    "import pandas as pd\n",
    "\n",
    "df = pd.read_csv('./data/sample_state_travel_data.csv')\n",
    "us_states = us_states.data.copy()\n",
    "\n",
    "#print df.loc[df['code']=='ME']['Totalcost']\n",
    "\n",
    "del us_states[\"HI\"]\n",
    "del us_states[\"AK\"]\n",
    "\n",
    "state_xs = [us_states[code][\"lons\"] for code in us_states]\n",
    "state_ys = [us_states[code][\"lats\"] for code in us_states]\n",
    "\n",
    "#county_xs=[us_counties[code][\"lons\"] for code in us_counties if us_counties[code][\"state\"] not in [\"ak\", \"hi\", \"pr\", \"gu\", \"vi\", \"mp\", \"as\"]]\n",
    "#county_ys=[us_counties[code][\"lats\"] for code in us_counties if us_counties[code][\"state\"] not in [\"ak\", \"hi\", \"pr\", \"gu\", \"vi\", \"mp\", \"as\"]]\n",
    "\n",
    "colors = [\"#F1EEF6\", \"#D4B9DA\", \"#C994C7\", \"#DF65B0\", \"#DD1C77\", \"#980043\"]\n",
    "\n",
    "state_colors = []\n",
    "for state_id in us_states:\n",
    "    try:\n",
    "        #print state_id\n",
    "        total = df.loc[df['code']==state_id,'Totalcost'].values[0]\n",
    "        #print total\n",
    "        idx = min(int(total/100), 5)\n",
    "        #print idx\n",
    "        state_colors.append(colors[idx])\n",
    "    except KeyError:\n",
    "        state_colors.append(\"black\")\n",
    "\n",
    "output_file(\"choropleth.html\", title=\"choropleth.py example\")\n",
    "\n",
    "hover = HoverTool(\n",
    "        tooltips=[\n",
    "    (\"State\", \"@us_state\"),\n",
    "    (\"Total Cost\", \"@total\"),\n",
    "    (\"(Long, Lat)\", \"($x, $y)\"),\n",
    "        ]\n",
    "    )\n",
    "\n",
    "p = figure(title=\"Nic and Alicia Us Trip!!\", toolbar_location=\"left\",\n",
    "    plot_width=1100, plot_height=700, tools=[hover])\n",
    "\n",
    "p.patches(state_xs, state_ys, fill_color=state_colors, fill_alpha=0.7,\n",
    "    line_color=\"white\", line_width=0.5)\n",
    "p.patches(state_xs, state_ys, fill_alpha=0.0,\n",
    "    line_color=\"#884444\", line_width=2)\n",
    "\n",
    "show(p)"
   ]
  },
  {
   "cell_type": "code",
   "execution_count": null,
   "metadata": {
    "collapsed": true
   },
   "outputs": [],
   "source": []
  },
  {
   "cell_type": "code",
   "execution_count": null,
   "metadata": {
    "collapsed": true
   },
   "outputs": [],
   "source": []
  }
 ],
 "metadata": {
  "kernelspec": {
   "display_name": "Python 2",
   "language": "python",
   "name": "python2"
  },
  "language_info": {
   "codemirror_mode": {
    "name": "ipython",
    "version": 2
   },
   "file_extension": ".py",
   "mimetype": "text/x-python",
   "name": "python",
   "nbconvert_exporter": "python",
   "pygments_lexer": "ipython2",
   "version": "2.7.12"
  }
 },
 "nbformat": 4,
 "nbformat_minor": 0
}
